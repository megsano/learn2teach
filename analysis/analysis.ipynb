{
 "cells": [
  {
   "cell_type": "code",
   "execution_count": null,
   "metadata": {
    "scrolled": true
   },
   "outputs": [],
   "source": [
    "# -*- coding: utf-8 -*-\n",
    "import numpy as np\n",
    "import pandas as pd \n",
    "from IPython.display import SVG\n",
    "from keras.utils.vis_utils import model_to_dot\n",
    "import random\n",
    "import math\n",
    "import gym\n",
    "import numpy as np\n",
    "import matplotlib.pyplot as plt\n",
    "from collections import deque\n",
    "from keras.models import Sequential\n",
    "from keras.layers import Dense\n",
    "from keras.optimizers import Adam\n",
    "from keras.models import model_from_json\n",
    "from keras.models import load_model\n",
    "from keras.utils import plot_model\n",
    "import h5py\n",
    "from ann_visualizer.visualize import ann_viz"
   ]
  },
  {
   "cell_type": "markdown",
   "metadata": {},
   "source": [
    "loading dataframes"
   ]
  },
  {
   "cell_type": "code",
   "execution_count": null,
   "metadata": {
    "collapsed": true
   },
   "outputs": [],
   "source": [
    "# train scores when training with teacher \n",
    "with_teacher_train = pd.read_csv('with_teacher_train.csv')\n",
    "with_teacher_train = with_teacher_train.drop('Unnamed: 0', axis = 1)\n",
    "# train scores when training without teacher \n",
    "without_teacher_train = pd.read_csv('without_teacher_train.csv')\n",
    "without_teacher_train = without_teacher_train.drop('Unnamed: 0', axis = 1)"
   ]
  },
  {
   "cell_type": "code",
   "execution_count": null,
   "metadata": {
    "collapsed": true
   },
   "outputs": [],
   "source": [
    "test_all = pd.read_csv('test_all.csv')\n",
    "test_all = test_all.drop('Unnamed: 0', axis = 1)\n",
    "test_teachers = pd.read_csv('test_teachers.csv')\n",
    "test_teachers = test_teachers.drop('Unnamed: 0', axis = 1)"
   ]
  },
  {
   "cell_type": "code",
   "execution_count": null,
   "metadata": {
    "collapsed": true
   },
   "outputs": [],
   "source": [
    "###############################\n",
    "## Analysis helper functions ##\n",
    "###############################\n",
    "from scipy import optimize\n",
    "from sklearn import datasets, linear_model\n",
    "from sklearn.linear_model import LinearRegression\n",
    "import statsmodels.api as sm\n",
    "from scipy import stats\n",
    "\n",
    "def test_func(x, a, b):\n",
    "    return a * x + b \n",
    "\n",
    "def plot_train(y, color, xlabel, ylabel, withLine):\n",
    "    plt.figure(figsize=(7.5,5))\n",
    "    params, params_covariance = optimize.curve_fit(test_func, range(len(y)), y, p0=[2, 2])\n",
    "    print(params)\n",
    "    sns.lineplot(x=range(len(y)), y=y,  color = color)\n",
    "    plt.gca().set_ylim(-3500, 100)\n",
    "    plt.plot(range(len(y)), test_func(range(len(y)), params[0], params[1]), range(len(y)), y, color = color, linewidth = 3)\n",
    "    plt.show()\n",
    "    \n",
    "def stats(y):\n",
    "    X = range(len(y))\n",
    "    y = y\n",
    "    X2 = sm.add_constant(X)\n",
    "    est = sm.OLS(y, X2)\n",
    "    est2 = est.fit()\n",
    "    print(est2.summary())\n",
    "    \n",
    "def line_plot_test(df):\n",
    "    plt.figure(figsize=(10,5))\n",
    "    sns.lineplot(data=df, x='game_num', y='test_score', hue='condition')\n",
    "    plt.plot(range(len(y)), test_func(range(len(y)), params[0], params[1]), range(len(y)), y, color = color, linewidth = 3)\n",
    "    plt.show()\n",
    "    \n",
    "def bar_plot_test(df, x, y, palette):\n",
    "    plt.figure(figsize=(6,5))\n",
    "#     plt.gca().set_ylim(-1800, 0)\n",
    "    sns.barplot(data=df, x=x, y=y, palette=palette, errwidth=1, capsize=0.1)\n",
    "    plt.show() # '#ef945f', "
   ]
  },
  {
   "cell_type": "markdown",
   "metadata": {},
   "source": [
    "### Training analysis"
   ]
  },
  {
   "cell_type": "code",
   "execution_count": null,
   "metadata": {},
   "outputs": [],
   "source": [
    "plot_train(list(without_teacher_train['train_scores']), '#75a863', 'games', 'train scores without teacher', True)"
   ]
  },
  {
   "cell_type": "code",
   "execution_count": null,
   "metadata": {
    "collapsed": true
   },
   "outputs": [],
   "source": [
    "stats(list(without_teacher_train['train_scores'])) \n",
    "# with_teacher_train_grouped = with_teacher_train.groupby(np.arange(len(with_teacher_train))//5).median()"
   ]
  },
  {
   "cell_type": "code",
   "execution_count": null,
   "metadata": {
    "collapsed": true
   },
   "outputs": [],
   "source": [
    "plot_train(list(with_teacher_train['train_scores'])[:126], '#85d1f7', 'games', 'train scores with teacher', True)"
   ]
  },
  {
   "cell_type": "code",
   "execution_count": null,
   "metadata": {
    "collapsed": true
   },
   "outputs": [],
   "source": [
    "stats(list(with_teacher_train['train_scores'])[:126]) "
   ]
  },
  {
   "cell_type": "markdown",
   "metadata": {},
   "source": [
    "### Testing analysis"
   ]
  },
  {
   "cell_type": "code",
   "execution_count": null,
   "metadata": {
    "collapsed": true
   },
   "outputs": [],
   "source": [
    "bar_plot_test(test_all, 'condition', 'test_score', palette = ['#c1943f', '#69aeea', '#67cc63']) "
   ]
  },
  {
   "cell_type": "markdown",
   "metadata": {},
   "source": [
    "##### Randomized teacher performance across experience"
   ]
  },
  {
   "cell_type": "code",
   "execution_count": null,
   "metadata": {
    "collapsed": true
   },
   "outputs": [],
   "source": [
    "test_with_random = test_all[test_all['condition'] == 'with_random']\n",
    "test_with_random['student'] =  [i//10 for i in range(50)]\n",
    "bar_plot_test(test_with_random, 'student', 'test_score', palette = \"OrRd\")"
   ]
  },
  {
   "cell_type": "code",
   "execution_count": null,
   "metadata": {
    "collapsed": true
   },
   "outputs": [],
   "source": [
    "test_with_random_student_means = test_with_random.groupby(np.arange(len(test_with_random))//10).median()['test_score']\n",
    "stats(test_with_random_student_means)"
   ]
  },
  {
   "cell_type": "markdown",
   "metadata": {},
   "source": [
    "##### Without teacher performance across experience"
   ]
  },
  {
   "cell_type": "code",
   "execution_count": null,
   "metadata": {
    "collapsed": true
   },
   "outputs": [],
   "source": [
    "test_without_teacher = test_teachers[test_teachers['condition'] == 'without_teacher']\n",
    "test_without_teacher['student'] = [i//25 for i in range(250)]\n",
    "bar_plot_test(test_without_teacher, 'student', 'test_score', palette=\"YlGn\")"
   ]
  },
  {
   "cell_type": "code",
   "execution_count": null,
   "metadata": {
    "collapsed": true
   },
   "outputs": [],
   "source": [
    "test_without_teacher_student_means = test_without_teacher.groupby(np.arange(len(test_without_teacher))//25).median()['test_score']\n",
    "stats(test_without_teacher_student_means)"
   ]
  },
  {
   "cell_type": "markdown",
   "metadata": {},
   "source": [
    "##### With RL teacher performance across experience"
   ]
  },
  {
   "cell_type": "code",
   "execution_count": null,
   "metadata": {
    "collapsed": true
   },
   "outputs": [],
   "source": [
    "test_with_teacher = test_teachers[test_teachers['condition'] == 'with_teacher']\n",
    "test_with_teacher['student'] = [i//25 for i in range(250)]\n",
    "bar_plot_test(test_with_teacher, 'student', 'test_score', palette=\"GnBu\")"
   ]
  },
  {
   "cell_type": "code",
   "execution_count": null,
   "metadata": {
    "collapsed": true
   },
   "outputs": [],
   "source": [
    "test_with_teacher_student_means = test_with_teacher.groupby(np.arange(len(test_with_teacher))//25).median()['test_score']\n",
    "stats(test_with_teacher_student_means)"
   ]
  },
  {
   "cell_type": "code",
   "execution_count": null,
   "metadata": {
    "collapsed": true
   },
   "outputs": [],
   "source": [
    "### number of rounds \n",
    "bar_plot_test(test_all, 'condition', 'num_rounds', palette = ['#b27357', '#69aeea', '#67cc63']) # just get the first half of without_teacher "
   ]
  },
  {
   "cell_type": "code",
   "execution_count": null,
   "metadata": {
    "collapsed": true
   },
   "outputs": [],
   "source": [
    "# material differences \n",
    "bar_plot_test(test_all, 'condition', 'mat_diff', palette = ['#b27357', '#69aeea', '#67cc63']) # just get the first half of without_teacher "
   ]
  },
  {
   "cell_type": "code",
   "execution_count": null,
   "metadata": {
    "collapsed": true
   },
   "outputs": [],
   "source": [
    "# proportion of optimal moves \n",
    "bar_plot_test(test_all, 'condition', 'match_prop', palette = ['#b27357', '#69aeea', '#67cc63']) # just get the first half of without_teacher "
   ]
  },
  {
   "cell_type": "code",
   "execution_count": null,
   "metadata": {
    "collapsed": true
   },
   "outputs": [],
   "source": []
  },
  {
   "cell_type": "code",
   "execution_count": null,
   "metadata": {
    "collapsed": true
   },
   "outputs": [],
   "source": []
  },
  {
   "cell_type": "code",
   "execution_count": null,
   "metadata": {
    "collapsed": true
   },
   "outputs": [],
   "source": []
  },
  {
   "cell_type": "code",
   "execution_count": null,
   "metadata": {
    "collapsed": true
   },
   "outputs": [],
   "source": []
  },
  {
   "cell_type": "code",
   "execution_count": null,
   "metadata": {
    "collapsed": true
   },
   "outputs": [],
   "source": []
  },
  {
   "cell_type": "code",
   "execution_count": null,
   "metadata": {
    "collapsed": true
   },
   "outputs": [],
   "source": []
  },
  {
   "cell_type": "code",
   "execution_count": null,
   "metadata": {
    "collapsed": true
   },
   "outputs": [],
   "source": []
  },
  {
   "cell_type": "code",
   "execution_count": null,
   "metadata": {
    "collapsed": true
   },
   "outputs": [],
   "source": []
  },
  {
   "cell_type": "markdown",
   "metadata": {},
   "source": [
    "## supplementary analysis"
   ]
  },
  {
   "cell_type": "code",
   "execution_count": null,
   "metadata": {},
   "outputs": [],
   "source": [
    "### TEST SCORES \n",
    "plt.figure(figsize=(10,5))\n",
    "plt.plot(range(len(without_teacher_test_scores)), without_teacher_test_scores, color = '#0be8b7', linewidth = 3)\n",
    "plt.show()"
   ]
  },
  {
   "cell_type": "code",
   "execution_count": null,
   "metadata": {},
   "outputs": [],
   "source": [
    "### MATCHES \n",
    "plt.figure(figsize=(10,5))\n",
    "plt.plot(range(len(without_teacher_test_matches)), without_teacher_test_matches, color = '#0be8b7', linewidth = 3)\n",
    "plt.show()"
   ]
  },
  {
   "cell_type": "code",
   "execution_count": null,
   "metadata": {},
   "outputs": [],
   "source": [
    "### ROUNDS\n",
    "plt.figure(figsize=(10,5))\n",
    "plt.plot(range(len(without_teacher_test_rounds)), without_teacher_test_rounds, color = '#0be8b7', linewidth = 3)\n",
    "plt.show()"
   ]
  },
  {
   "cell_type": "code",
   "execution_count": null,
   "metadata": {},
   "outputs": [],
   "source": [
    "### MATERIAL DIFFERENCES\n",
    "plt.figure(figsize=(10,5))\n",
    "plt.plot(range(len(without_teacher_test_material)), without_teacher_test_material, color = '#0be8b7', linewidth = 3)\n",
    "plt.show()"
   ]
  },
  {
   "cell_type": "code",
   "execution_count": null,
   "metadata": {
    "collapsed": true
   },
   "outputs": [],
   "source": []
  },
  {
   "cell_type": "code",
   "execution_count": null,
   "metadata": {
    "collapsed": true
   },
   "outputs": [],
   "source": []
  }
 ],
 "metadata": {
  "kernelspec": {
   "display_name": "Python 3",
   "language": "python",
   "name": "python3"
  },
  "language_info": {
   "codemirror_mode": {
    "name": "ipython",
    "version": 3
   },
   "file_extension": ".py",
   "mimetype": "text/x-python",
   "name": "python",
   "nbconvert_exporter": "python",
   "pygments_lexer": "ipython3",
   "version": "3.6.8"
  }
 },
 "nbformat": 4,
 "nbformat_minor": 2
}
