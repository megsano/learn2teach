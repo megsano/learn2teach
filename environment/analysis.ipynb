{
 "cells": [
  {
   "cell_type": "code",
   "execution_count": 20,
   "metadata": {
    "collapsed": true
   },
   "outputs": [],
   "source": [
    "import numpy as np\n",
    "import pandas as pd \n",
    "from IPython.display import SVG\n",
    "from keras.utils.vis_utils import model_to_dot\n",
    "# -*- coding: utf-8 -*-\n",
    "import random\n",
    "import math\n",
    "import gym\n",
    "import numpy as np\n",
    "import matplotlib.pyplot as plt\n",
    "from collections import deque\n",
    "from keras.models import Sequential\n",
    "from keras.layers import Dense\n",
    "from keras.optimizers import Adam\n",
    "from keras.models import model_from_json\n",
    "from keras.models import load_model\n",
    "from keras.utils import plot_model\n",
    "import h5py\n",
    "from ann_visualizer.visualize import ann_viz"
   ]
  },
  {
   "cell_type": "code",
   "execution_count": 22,
   "metadata": {
    "collapsed": true
   },
   "outputs": [],
   "source": [
    "class TeacherAgent:\n",
    "    def __init__(self, state_size=4, action_size=3):\n",
    "        self.state_size = state_size\n",
    "        self.action_size = action_size\n",
    "        self.memory = deque(maxlen=2000)\n",
    "        self.gamma = 0.95    # discount rate\n",
    "        self.epsilon = 1.0  # exploration rate\n",
    "        self.epsilon_min = 0.01\n",
    "        self.epsilon_decay = 0.995\n",
    "        self.learning_rate = 0.001\n",
    "        self.model = self._build_model()\n",
    "        self.moves_since_hint = 0\n",
    "        self.not_yet_rewarded = []\n",
    "\n",
    "    def _build_model(self):\n",
    "        # Neural Net for Deep-Q learning Model\n",
    "        model = Sequential()\n",
    "        model.add(Dense(24, input_dim=self.state_size, activation='relu'))\n",
    "        model.add(Dense(24, activation='relu'))\n",
    "        model.add(Dense(self.action_size, activation='linear'))\n",
    "        model.compile(loss='mse',\n",
    "                      optimizer=Adam(lr=self.learning_rate))\n",
    "        return model\n",
    "\n",
    "    def remember(self, state, action, reward, next_state, done):\n",
    "        self.memory.append((state, action, reward, next_state, done))\n",
    "\n",
    "    def act(self, state):\n",
    "        if self.moves_since_hint == 2: #Meaning the teacher waits at most 3 moves for a reward, could be tweaked\n",
    "            self.moves_since_hint = 0\n",
    "            return 2 #This enforces that we don't go too long without giving hints (could change to full OR partial hint l8r)\n",
    "        if np.random.rand() <= self.epsilon:\n",
    "            random_index = random.randrange(self.action_size)\n",
    "            if random_index == 0:\n",
    "                self.moves_since_hint += 1\n",
    "            else:\n",
    "                self.moves_since_hint = 0\n",
    "            return random_index\n",
    "        act_values = self.model.predict(state)\n",
    "        nonrandom_index = np.argmax(act_values[0])  # returns action\n",
    "        if nonrandom_index == 0:\n",
    "            self.moves_since_hint += 1\n",
    "        else:\n",
    "            self.moves_since_hint = 0\n",
    "        return nonrandom_index\n",
    "\n",
    "    def replay(self, batch_size):\n",
    "        minibatch = random.sample(self.memory, int(batch_size))\n",
    "        for state, action, reward, next_state, done in minibatch:\n",
    "            target = reward\n",
    "            # if not done: #USED TO BE COMMENTED IN\n",
    "            #print (\"teacher agent state (should be an array with shape (4, )): \", next_state)\n",
    "            # target = (reward + self.gamma *\n",
    "            #           np.amax(self.model.predict(next_state)[0]))\n",
    "            whole_list = self.model.predict(next_state)\n",
    "            amax_result = np.amax(whole_list[0])\n",
    "            target = reward + self.gamma * amax_result\n",
    "            # tabbed over part above\n",
    "\n",
    "            target_f = self.model.predict(state)\n",
    "            target_f[0][action] = target\n",
    "            self.model.fit(state, target_f, epochs=1, verbose=0)\n",
    "        if self.epsilon > self.epsilon_min:\n",
    "            self.epsilon *= self.epsilon_decay\n",
    "\n",
    "    def load(self, name):\n",
    "        self.model.load_weights(name)\n",
    "\n",
    "    def save(self, name):\n",
    "        self.model.save_weights(name)"
   ]
  },
  {
   "cell_type": "code",
   "execution_count": 23,
   "metadata": {},
   "outputs": [],
   "source": [
    "teacher_agent = TeacherAgent()"
   ]
  },
  {
   "cell_type": "code",
   "execution_count": 24,
   "metadata": {},
   "outputs": [
    {
     "name": "stdout",
     "output_type": "stream",
     "text": [
      "_________________________________________________________________\n",
      "Layer (type)                 Output Shape              Param #   \n",
      "=================================================================\n",
      "dense_7 (Dense)              (None, 24)                120       \n",
      "_________________________________________________________________\n",
      "dense_8 (Dense)              (None, 24)                600       \n",
      "_________________________________________________________________\n",
      "dense_9 (Dense)              (None, 3)                 75        \n",
      "=================================================================\n",
      "Total params: 795\n",
      "Trainable params: 795\n",
      "Non-trainable params: 0\n",
      "_________________________________________________________________\n",
      "None\n"
     ]
    }
   ],
   "source": [
    "print(teacher_agent.model.summary())"
   ]
  },
  {
   "cell_type": "code",
   "execution_count": 25,
   "metadata": {},
   "outputs": [],
   "source": [
    "plot_model(teacher_agent.model, to_file='teacher_model_plot.png', show_shapes=True, show_layer_names=True)"
   ]
  },
  {
   "cell_type": "code",
   "execution_count": 28,
   "metadata": {},
   "outputs": [
    {
     "data": {
      "image/svg+xml": [
       "<svg height=\"264pt\" viewBox=\"0.00 0.00 113.00 264.00\" width=\"113pt\" xmlns=\"http://www.w3.org/2000/svg\" xmlns:xlink=\"http://www.w3.org/1999/xlink\">\n",
       "<g class=\"graph\" id=\"graph0\" transform=\"scale(1 1) rotate(0) translate(4 260)\">\n",
       "<title>G</title>\n",
       "<polygon fill=\"#ffffff\" points=\"-4,4 -4,-260 109,-260 109,4 -4,4\" stroke=\"transparent\"/>\n",
       "<!-- 47861913024 -->\n",
       "<g class=\"node\" id=\"node1\">\n",
       "<title>47861913024</title>\n",
       "<polygon fill=\"none\" points=\"0,-146.5 0,-182.5 105,-182.5 105,-146.5 0,-146.5\" stroke=\"#000000\"/>\n",
       "<text fill=\"#000000\" font-family=\"Times,serif\" font-size=\"14.00\" text-anchor=\"middle\" x=\"52.5\" y=\"-160.8\">dense_7: Dense</text>\n",
       "</g>\n",
       "<!-- 47861184160 -->\n",
       "<g class=\"node\" id=\"node2\">\n",
       "<title>47861184160</title>\n",
       "<polygon fill=\"none\" points=\"0,-73.5 0,-109.5 105,-109.5 105,-73.5 0,-73.5\" stroke=\"#000000\"/>\n",
       "<text fill=\"#000000\" font-family=\"Times,serif\" font-size=\"14.00\" text-anchor=\"middle\" x=\"52.5\" y=\"-87.8\">dense_8: Dense</text>\n",
       "</g>\n",
       "<!-- 47861913024&#45;&gt;47861184160 -->\n",
       "<g class=\"edge\" id=\"edge2\">\n",
       "<title>47861913024-&gt;47861184160</title>\n",
       "<path d=\"M52.5,-146.4551C52.5,-138.3828 52.5,-128.6764 52.5,-119.6817\" fill=\"none\" stroke=\"#000000\"/>\n",
       "<polygon fill=\"#000000\" points=\"56.0001,-119.5903 52.5,-109.5904 49.0001,-119.5904 56.0001,-119.5903\" stroke=\"#000000\"/>\n",
       "</g>\n",
       "<!-- 47861913808 -->\n",
       "<g class=\"node\" id=\"node3\">\n",
       "<title>47861913808</title>\n",
       "<polygon fill=\"none\" points=\"0,-.5 0,-36.5 105,-36.5 105,-.5 0,-.5\" stroke=\"#000000\"/>\n",
       "<text fill=\"#000000\" font-family=\"Times,serif\" font-size=\"14.00\" text-anchor=\"middle\" x=\"52.5\" y=\"-14.8\">dense_9: Dense</text>\n",
       "</g>\n",
       "<!-- 47861184160&#45;&gt;47861913808 -->\n",
       "<g class=\"edge\" id=\"edge3\">\n",
       "<title>47861184160-&gt;47861913808</title>\n",
       "<path d=\"M52.5,-73.4551C52.5,-65.3828 52.5,-55.6764 52.5,-46.6817\" fill=\"none\" stroke=\"#000000\"/>\n",
       "<polygon fill=\"#000000\" points=\"56.0001,-46.5903 52.5,-36.5904 49.0001,-46.5904 56.0001,-46.5903\" stroke=\"#000000\"/>\n",
       "</g>\n",
       "<!-- 47861913136 -->\n",
       "<g class=\"node\" id=\"node4\">\n",
       "<title>47861913136</title>\n",
       "<polygon fill=\"none\" points=\"5.5,-219.5 5.5,-255.5 99.5,-255.5 99.5,-219.5 5.5,-219.5\" stroke=\"#000000\"/>\n",
       "<text fill=\"#000000\" font-family=\"Times,serif\" font-size=\"14.00\" text-anchor=\"middle\" x=\"52.5\" y=\"-233.8\">47861913136</text>\n",
       "</g>\n",
       "<!-- 47861913136&#45;&gt;47861913024 -->\n",
       "<g class=\"edge\" id=\"edge1\">\n",
       "<title>47861913136-&gt;47861913024</title>\n",
       "<path d=\"M52.5,-219.4551C52.5,-211.3828 52.5,-201.6764 52.5,-192.6817\" fill=\"none\" stroke=\"#000000\"/>\n",
       "<polygon fill=\"#000000\" points=\"56.0001,-192.5903 52.5,-182.5904 49.0001,-192.5904 56.0001,-192.5903\" stroke=\"#000000\"/>\n",
       "</g>\n",
       "</g>\n",
       "</svg>"
      ],
      "text/plain": [
       "<IPython.core.display.SVG object>"
      ]
     },
     "execution_count": 28,
     "metadata": {},
     "output_type": "execute_result"
    }
   ],
   "source": [
    "SVG(model_to_dot(teacher_agent.model).create(prog='dot', format='svg'))"
   ]
  },
  {
   "cell_type": "code",
   "execution_count": 27,
   "metadata": {},
   "outputs": [
    {
     "name": "stderr",
     "output_type": "stream",
     "text": [
      "/Users/megumisano/anaconda/lib/python3.6/subprocess.py:766: ResourceWarning: subprocess 88060 is still running\n",
      "  ResourceWarning, source=self)\n",
      "/Users/megumisano/anaconda/lib/python3.6/subprocess.py:766: ResourceWarning: subprocess 88065 is still running\n",
      "  ResourceWarning, source=self)\n",
      "/Users/megumisano/anaconda/lib/python3.6/subprocess.py:766: ResourceWarning: subprocess 88069 is still running\n",
      "  ResourceWarning, source=self)\n"
     ]
    }
   ],
   "source": [
    "ann_viz(teacher_agent.model, title=\"My second neural network\", view=True, filename = 'teacher.gv')"
   ]
  },
  {
   "cell_type": "code",
   "execution_count": 29,
   "metadata": {},
   "outputs": [
    {
     "name": "stderr",
     "output_type": "stream",
     "text": [
      "/Users/megumisano/anaconda/lib/python3.6/importlib/_bootstrap.py:219: ImportWarning: can't resolve package from __spec__ or __package__, falling back on __name__ and __path__\n",
      "  return f(*args, **kwds)\n",
      "/Users/megumisano/anaconda/lib/python3.6/importlib/_bootstrap.py:219: ImportWarning: can't resolve package from __spec__ or __package__, falling back on __name__ and __path__\n",
      "  return f(*args, **kwds)\n"
     ]
    }
   ],
   "source": [
    "import seaborn as sns"
   ]
  },
  {
   "cell_type": "code",
   "execution_count": 146,
   "metadata": {},
   "outputs": [
    {
     "data": {
      "image/png": "[encoded data removed]",
      "text/plain": [
       "<matplotlib.figure.Figure at 0x1c313c85f8>"
      ]
     },
     "metadata": {},
     "output_type": "display_data"
    }
   ],
   "source": [
    "scores_list = [-1359.5, -1512.6666666666667, -2713.1666666666665, -1848.2, -1591.6470588235295, -1988.4285714285713, -2027.1666666666667, -1037.2222222222222, -1505.7368421052631, -1761.25, -1017.1666666666666, -2386.1875, -806.8461538461538, -660.8571428571429, -2376.25, -1601.2, -2205.5238095238096, -1722.6842105263158, -1974.111111111111, -1129.3684210526317, -991.25, -1390.9285714285713, -421.53846153846155, -2213.1428571428573, -514.6666666666666, -2079.153846153846, -1786.4285714285713, -1271.9333333333334, -1746.923076923077, -1470.090909090909, -1822.7826086956522, -1262.7, -1533.4666666666667, -1334.9473684210527, -1572.6666666666667, -1274.0714285714287, -1288.0, -872.9230769230769, -2212.75, -1591.7142857142858, -1473.8181818181818, -1394.8181818181818, -1394.35, -1505.2105263157894, -377.45454545454544, -2405.777777777778, -1999.909090909091, -936.125, -3089.294117647059, -1067.25, -1069.5, -1801.25, -1252.75, -1979.0, -1452.55, -1411.5882352941176, -333.72727272727275, -1768.0588235294117, -1060.84, -494.46153846153845, -1638.25, -1576.2, -1039.5833333333333, -1482.7619047619048,-1618.923076923077, -1167.3333333333333, -2105.9655172413795, -542.8461538461538, -985.6666666666666, -1211.0, -1245.0, -2027.2, -1405.2,\n",
    " -1621.4166666666667, -1460.3846153846155, -1590.7407407407406, -1106.5384615384614, -1948.375, -2293.733333333333, -1123.6, -1129.5714285714287, -1230.375, -1436.5, -200.21052631578948, -850.1428571428571, -341.0769230769231, -795.3846153846154, -713.5555555555555, -1516.095238095238, -1393.2666666666667, -1004.0, -1644.25, -395.2, -1256.909090909091, -1014.2857142857143, -1012.0, -1705.4285714285713, -2512.5454545454545, -1485.5714285714287, -1131.5714285714287, -794.0, -1127.8, -182.47058823529412, -1249.125, -602.4166666666666, -1854.6666666666667, -1502.1666666666667, -735.3333333333334, -823.5, -1652.7777777777778, -882.4545454545455, -614.8947368421053, -1623.9166666666667, -1197.375, -1027.2666666666667, -1279.5833333333333, -1444.5, -1315.75, -1513.1666666666667, -1452.1, -2325.5454545454545, -1497.5294117647059, -1673.85, -1763.909090909091, -954.2727272727273, -439.1111111111111]\n",
    "plt.rcParams['axes.facecolor'] = 'white'\n",
    "# df = pd.DataFrame()\n",
    "# df['game'] = range(len(scores_list))\n",
    "# df['score'] = scores_list\n",
    "# sns.lineplot(data=df, x='game', y ='score')\n",
    "# # plt.plot(scores_list)\n",
    "# # plt.ylabel('average score value')\n",
    "# # plt.xlabel('games')\n",
    "# plt.show()\n",
    "df = pd.DataFrame()\n",
    "df['game'] = range(len(scores_list))\n",
    "df['score'] = scores_list\n",
    "plt.figure(figsize=(6,5))\n",
    "plt.plot(range(126), scores_list, c='#0be8b7')\n",
    "#ax = sns.lineplot(data=df, x='game', y ='score', palette=sns.color_palette(\"Set3\", 10))\n",
    "# plt.plot(scores_list)\n",
    "# plt.ylabel('average score value')\n",
    "# plt.xlabel('games')\n",
    "\n",
    "#t= 5\n",
    "new_list = []\n",
    "# for i in range(len(scores_list) + 1 - t):\n",
    "# for i in range(len(scores_list)//5):\n",
    "#    # total = 0.0\n",
    "# #     for j in range(t):\n",
    "# #         total += \n",
    "#     if i != 25:\n",
    "#         rel_scores = [scores_list[i * 5 + t] for t in range(5)]\n",
    "#         rel_scores_arr = np.sort(np.array(rel_scores))\n",
    "#         #max_ = np.max(np.array(rel_scores))\n",
    "#         max_ = rel_scores_arr[2]\n",
    "#         new_list.append(max_)\n",
    "#     mean = total / (t + 0.0)\n",
    "#     new_list.append(mean)\n",
    "plt.plot(x_data, test_func(x_data, params[0], params[1]),\n",
    "         label='Fitted function', c='#028467', linewidth=1.0)\n",
    "# plt.yLabel('average score value')\n",
    "# plt.xLabel('t games')\n",
    "plt.show()"
   ]
  },
  {
   "cell_type": "code",
   "execution_count": null,
   "metadata": {},
   "outputs": [],
   "source": []
  },
  {
   "cell_type": "code",
   "execution_count": 60,
   "metadata": {},
   "outputs": [
    {
     "name": "stdout",
     "output_type": "stream",
     "text": [
      "                            OLS Regression Results                            \n",
      "==============================================================================\n",
      "Dep. Variable:                      y   R-squared:                       0.063\n",
      "Model:                            OLS   Adj. R-squared:                  0.055\n",
      "Method:                 Least Squares   F-statistic:                     8.283\n",
      "Date:                Sat, 01 Dec 2018   Prob (F-statistic):            0.00471\n",
      "Time:                        21:37:32   Log-Likelihood:                -968.60\n",
      "No. Observations:                 126   AIC:                             1941.\n",
      "Df Residuals:                     124   BIC:                             1947.\n",
      "Df Model:                           1                                         \n",
      "Covariance Type:            nonrobust                                         \n",
      "==============================================================================\n",
      "                 coef    std err          t      P>|t|      [0.025      0.975]\n",
      "------------------------------------------------------------------------------\n",
      "const      -1612.3526     94.198    -17.117      0.000   -1798.797   -1425.908\n",
      "x1             3.7490      1.303      2.878      0.005       1.171       6.327\n",
      "==============================================================================\n",
      "Omnibus:                        0.978   Durbin-Watson:                   2.156\n",
      "Prob(Omnibus):                  0.613   Jarque-Bera (JB):                0.595\n",
      "Skew:                          -0.134   Prob(JB):                        0.743\n",
      "Kurtosis:                       3.203   Cond. No.                         144.\n",
      "==============================================================================\n",
      "\n",
      "Warnings:\n",
      "[1] Standard Errors assume that the covariance matrix of the errors is correctly specified.\n"
     ]
    }
   ],
   "source": [
    "import pandas as pd\n",
    "import numpy as np\n",
    "from sklearn import datasets, linear_model\n",
    "from sklearn.linear_model import LinearRegression\n",
    "import statsmodels.api as sm\n",
    "from scipy import stats\n",
    "\n",
    "X = range(126)\n",
    "y = scores_list\n",
    "\n",
    "X2 = sm.add_constant(X)\n",
    "est = sm.OLS(y, X2)\n",
    "est2 = est.fit()\n",
    "print(est2.summary())"
   ]
  },
  {
   "cell_type": "code",
   "execution_count": 57,
   "metadata": {},
   "outputs": [
    {
     "name": "stdout",
     "output_type": "stream",
     "text": [
      "[    3.74899038 -1612.35263537]\n"
     ]
    },
    {
     "data": {
      "text/plain": [
       "<matplotlib.figure.Figure at 0x1a2a949128>"
      ]
     },
     "metadata": {},
     "output_type": "display_data"
    },
    {
     "data": {
      "image/png": "[encoded data removed]",
      "text/plain": [
       "<matplotlib.figure.Figure at 0x1a2ab37630>"
      ]
     },
     "metadata": {},
     "output_type": "display_data"
    }
   ],
   "source": [
    "from scipy import optimize\n",
    "\n",
    "def test_func(x, a, b):\n",
    "    return a * x + b \n",
    "\n",
    "x_data = range(126)\n",
    "params, params_covariance = optimize.curve_fit(test_func, x_data, scores_list,\n",
    "                                               p0=[2, 2])\n",
    "\n",
    "print(params)\n",
    "\n",
    "plt.figure(figsize=(6, 4))\n",
    "plt.scatter(x_data, scores_list, label='Data')\n",
    "plt.plot(x_data, test_func(x_data, params[0], params[1]),\n",
    "         label='Fitted function')\n",
    "\n",
    "plt.legend(loc='best')\n",
    "\n",
    "plt.show()"
   ]
  },
  {
   "cell_type": "code",
   "execution_count": 137,
   "metadata": {},
   "outputs": [
    {
     "name": "stdout",
     "output_type": "stream",
     "text": [
      "    -1368.71236758\n"
     ]
    }
   ],
   "source": [
    "##### without teacher student tests \n",
    "\n",
    "# without_teacher_0\n",
    "# [-1226.4285714285713, -209.84, -667.5, -1741.6923076923076, -1607.4666666666667]\n",
    "# without_teacher_1\n",
    "# [-1165.5, -1401.7142857142858, -1524.1818181818182, -1797.357142857143, -1288.0]\n",
    "# without_teacher_2 \n",
    "# [-1631.875, -1050.5, -1596.357142857143, -601.0666666666667, -2390.157894736842]\n",
    "# without_teacher_3\n",
    "# [-3045.214285714286, -1456.15, -564.0909090909091, -1841.0, -280.7857142857143]\n",
    "# without_teacher_4 \n",
    "# [-963.3333333333334, -1866.3076923076924, -1306.6363636363637, -1133.5882352941176, -1638.0588235294117]\n",
    "# without_teacher_5 \n",
    "\n",
    "scores = {\n",
    "    #'0' : [-1226.4285714285713, -209.84, -667.5, -1741.6923076923076, -1607.4666666666667],\n",
    "    '1' : [-1165.5, -1401.7142857142858, -1524.1818181818182, -1797.357142857143, -1288.0],\n",
    "    '2' : [-1631.875, -1050.5, -1596.357142857143, -601.0666666666667, -2390.157894736842],\n",
    "    '3' : [-3045.214285714286, -1456.15, -564.0909090909091, -1841.0, -280.7857142857143],\n",
    "    '4' : [-963.3333333333334, -1866.3076923076924, -1306.6363636363637, -1133.5882352941176, -1638.0588235294117],\n",
    "    '5' : [-1223.391304347826, -764.8235294117648, -467.6, -1820.3333333333333, -1399.7857142857142]\n",
    "}\n",
    "new_list = []\n",
    "num_students = 5\n",
    "for column in range(5):\n",
    "    for i in range(num_students):\n",
    "        student_num = i + 1\n",
    "        new_list.append(scores[str(student_num)][column])\n",
    "by_student = [np.mean(np.array(scores_list)) for scores_list in scores.values()]\n",
    "print(\"    \" + str(np.mean(np.array(by_student))))"
   ]
  },
  {
   "cell_type": "code",
   "execution_count": null,
   "metadata": {
    "collapsed": true
   },
   "outputs": [],
   "source": [
    "# new_list = \n",
    "# [-1165.5, -1631.875, -3045.214285714286, -963.3333333333334, ]"
   ]
  },
  {
   "cell_type": "code",
   "execution_count": 107,
   "metadata": {},
   "outputs": [
    {
     "data": {
      "image/png": "[encoded data removed]",
      "text/plain": [
       "<matplotlib.figure.Figure at 0xb24bbccf8>"
      ]
     },
     "metadata": {},
     "output_type": "display_data"
    }
   ],
   "source": [
    "plt.plot(range(5), by_student)\n",
    "plt.show()"
   ]
  },
  {
   "cell_type": "code",
   "execution_count": 138,
   "metadata": {},
   "outputs": [],
   "source": [
    "d = pd.DataFrame()\n",
    "list_ = [1,2,3,4,5]\n",
    "bigger_list = list_ * 5\n",
    "d['student'] = bigger_list\n",
    "d['score'] = new_list #[scores[str(i)][j] for j in range(5) for i in range(1,6)] "
   ]
  },
  {
   "cell_type": "code",
   "execution_count": 142,
   "metadata": {},
   "outputs": [
    {
     "data": {
      "image/png": "[encoded data removed]",
      "text/plain": [
       "<matplotlib.figure.Figure at 0x1c3130cd68>"
      ]
     },
     "metadata": {},
     "output_type": "display_data"
    }
   ],
   "source": [
    "sns.lineplot(data=d, x='student', y='score')\n",
    "plt.show()"
   ]
  },
  {
   "cell_type": "code",
   "execution_count": 110,
   "metadata": {},
   "outputs": [
    {
     "data": {
      "image/png": "[encoded data removed]",
      "text/plain": [
       "<matplotlib.figure.Figure at 0x1c3140deb8>"
      ]
     },
     "metadata": {},
     "output_type": "display_data"
    }
   ],
   "source": [
    "plt.bar(range(2), [-1368.71236758, 0], width=0.3)\n",
    "plt.show()"
   ]
  },
  {
   "cell_type": "code",
   "execution_count": null,
   "metadata": {
    "collapsed": true
   },
   "outputs": [],
   "source": []
  }
 ],
 "metadata": {
  "kernelspec": {
   "display_name": "Python 3",
   "language": "python",
   "name": "python3"
  },
  "language_info": {
   "codemirror_mode": {
    "name": "ipython",
    "version": 3
   },
   "file_extension": ".py",
   "mimetype": "text/x-python",
   "name": "python",
   "nbconvert_exporter": "python",
   "pygments_lexer": "ipython3",
   "version": "3.6.5"
  }
 },
 "nbformat": 4,
 "nbformat_minor": 2
}
